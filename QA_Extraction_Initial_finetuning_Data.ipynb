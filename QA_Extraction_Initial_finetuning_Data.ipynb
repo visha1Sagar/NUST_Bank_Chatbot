{
  "nbformat": 4,
  "nbformat_minor": 0,
  "metadata": {
    "colab": {
      "provenance": [],
      "authorship_tag": "ABX9TyN+nAgTwcO0tlk4159SOUMg",
      "include_colab_link": true
    },
    "kernelspec": {
      "name": "python3",
      "display_name": "Python 3"
    },
    "language_info": {
      "name": "python"
    }
  },
  "cells": [
    {
      "cell_type": "markdown",
      "metadata": {
        "id": "view-in-github",
        "colab_type": "text"
      },
      "source": [
        "<a href=\"https://colab.research.google.com/github/visha1Sagar/NUST_Bank_Chatbot/blob/main/QA_Extraction_Initial_finetuning_Data.ipynb\" target=\"_parent\"><img src=\"https://colab.research.google.com/assets/colab-badge.svg\" alt=\"Open In Colab\"/></a>"
      ]
    },
    {
      "cell_type": "code",
      "execution_count": null,
      "metadata": {
        "id": "4d0I09VlaY0l"
      },
      "outputs": [],
      "source": [
        "!pip install -q -U google-genai"
      ]
    },
    {
      "cell_type": "code",
      "source": [
        "from google.colab import userdata\n",
        "Gemini_Api_Key = userdata.get('GEMINI_API_KEY')"
      ],
      "metadata": {
        "id": "MZ9Qk70wa8-Z"
      },
      "execution_count": null,
      "outputs": []
    },
    {
      "cell_type": "markdown",
      "source": [
        "## Getting structured output from Gemini"
      ],
      "metadata": {
        "id": "GwsPXBqGj-tS"
      }
    },
    {
      "cell_type": "code",
      "source": [
        "from google import genai\n",
        "\n",
        "prompt = \"\"\"\n",
        "Generate Valid Questions and Answer pairs in JSON format from this : {sheet_text}.\n",
        "\n",
        "Use this JSON schema:\n",
        "\n",
        "Question_Answer_Pair = {{'question': str, 'answer': str}}\n",
        "Return: list[Question_Answer_Pair]\n",
        "\"\"\"\n",
        "\n",
        "client = genai.Client(api_key=Gemini_Api_Key)\n",
        "\n",
        "def get_qa_pairs(sheet_text):\n",
        "    response = client.models.generate_content(\n",
        "        model='gemini-2.0-flash',\n",
        "        contents=prompt.format(sheet_text=sheet_text)\n",
        "    )\n",
        "\n",
        "    return response.text"
      ],
      "metadata": {
        "id": "VcbGLCuna0yW"
      },
      "execution_count": null,
      "outputs": []
    },
    {
      "cell_type": "markdown",
      "source": [
        "## Reading Data"
      ],
      "metadata": {
        "id": "EmA4GeHlkEER"
      }
    },
    {
      "cell_type": "code",
      "source": [
        "\n",
        "import pandas as pd\n",
        "data = pd.ExcelFile(\"/content/NUST Bank-Product-Knowledge.xlsx\")\n"
      ],
      "metadata": {
        "id": "MQ7lbpBDcci1"
      },
      "execution_count": null,
      "outputs": []
    },
    {
      "cell_type": "code",
      "source": [
        "all_qa_pairs = []"
      ],
      "metadata": {
        "id": "8rFCPCE1iEtS"
      },
      "execution_count": null,
      "outputs": []
    },
    {
      "source": [
        "import json\n",
        "\n",
        "for sheet_name in data.sheet_names:\n",
        "\n",
        "    # Use the parse method to load the sheet into a DataFrame\n",
        "    sheet = data.parse(sheet_name)\n",
        "    sheet_text = sheet.to_string()  # Convert the sheet data to string\n",
        "    qa_pairs_str = get_qa_pairs(sheet_text)\n",
        "    try:\n",
        "        qa_pairs = json.loads(qa_pairs_str.replace(\"```\", \"\").replace(\"json\", \"\"))\n",
        "        all_qa_pairs.extend(qa_pairs)\n",
        "    except json.JSONDecodeError as e:\n",
        "        print(f\"Error decoding JSON for sheet {sheet_name}: {e}\")\n",
        "        print(f\"Problematic response: {qa_pairs_str}\")\n",
        "\n"
      ],
      "cell_type": "code",
      "metadata": {
        "collapsed": true,
        "id": "5vgqUknHgMTt"
      },
      "execution_count": null,
      "outputs": []
    },
    {
      "cell_type": "code",
      "source": [
        "len(all_qa_pairs)"
      ],
      "metadata": {
        "colab": {
          "base_uri": "https://localhost:8080/"
        },
        "id": "6tuwHJSNixxz",
        "outputId": "8b09ad97-d88c-4625-c9a2-9bf609bc30d5"
      },
      "execution_count": null,
      "outputs": [
        {
          "output_type": "execute_result",
          "data": {
            "text/plain": [
              "414"
            ]
          },
          "metadata": {},
          "execution_count": 27
        }
      ]
    },
    {
      "cell_type": "code",
      "source": [
        "all_qa_pairs"
      ],
      "metadata": {
        "id": "rNsWp4agcaBy"
      },
      "execution_count": null,
      "outputs": []
    },
    {
      "cell_type": "markdown",
      "source": [
        "## Saving to the JSON"
      ],
      "metadata": {
        "id": "F6Q3CH_bkHkf"
      }
    },
    {
      "cell_type": "code",
      "source": [
        "import json\n",
        "\n",
        "with open('qa_pairs.json', 'w') as f:\n",
        "    json.dump(all_qa_pairs, f, indent=4)\n"
      ],
      "metadata": {
        "id": "UOK7qdGeheuU"
      },
      "execution_count": null,
      "outputs": []
    }
  ]
}